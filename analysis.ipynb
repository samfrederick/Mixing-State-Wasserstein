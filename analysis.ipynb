{
 "cells": [
  {
   "cell_type": "code",
   "execution_count": 1,
   "metadata": {},
   "outputs": [],
   "source": [
    "from generate_aero_state import aero_state\n",
    "import matplotlib.pyplot as plt\n",
    "import numpy as np"
   ]
  },
  {
   "cell_type": "code",
   "execution_count": 2,
   "metadata": {},
   "outputs": [],
   "source": [
    "aero = aero_state(n_particles=100, verbose=False, \n",
    "                  species={'species_1': {'density': 1},\n",
    "                           'species_2': {'density': 1}}\n",
    "                    )\n"
   ]
  },
  {
   "cell_type": "code",
   "execution_count": 3,
   "metadata": {},
   "outputs": [
    {
     "data": {
      "text/plain": [
       "<matplotlib.collections.PathCollection at 0x2b9f7014cd90>"
      ]
     },
     "execution_count": 3,
     "metadata": {},
     "output_type": "execute_result"
    },
    {
     "data": {
      "image/png": "[encoded data removed]",
      "text/plain": [
       "<Figure size 432x288 with 1 Axes>"
      ]
     },
     "metadata": {
      "needs_background": "light"
     },
     "output_type": "display_data"
    }
   ],
   "source": [
    "plt.scatter(x=aero.aero_state_mass[:, 0], y=aero.aero_state_mass[:, 1])"
   ]
  },
  {
   "cell_type": "code",
   "execution_count": 4,
   "metadata": {},
   "outputs": [],
   "source": [
    "\n",
    "\n",
    "n_particles = 5000\n",
    "\n",
    "radii = np.random.lognormal(mean=0, sigma=.3, size=n_particles)\n",
    "\n",
    "aero = aero_state(n_particles, \n",
    "                  species={'species_1': {'density': 1},\n",
    "                           'species_2': {'density': 1}},\n",
    "                  particle_radius=radii,\n",
    "                  verbose=False)"
   ]
  },
  {
   "cell_type": "code",
   "execution_count": 5,
   "metadata": {},
   "outputs": [
    {
     "data": {
      "text/plain": [
       "Text(0, 0.5, 'Species 2 Mass')"
      ]
     },
     "execution_count": 5,
     "metadata": {},
     "output_type": "execute_result"
    },
    {
     "data": {
      "image/png": "[encoded data removed]",
      "text/plain": [
       "<Figure size 432x288 with 1 Axes>"
      ]
     },
     "metadata": {
      "needs_background": "light"
     },
     "output_type": "display_data"
    }
   ],
   "source": [
    "plt.scatter(x=aero.aero_state_mass[:, 0], y=aero.aero_state_mass[:, 1])\n",
    "plt.xlabel('Species 1 Mass')\n",
    "plt.ylabel('Species 2 Mass')"
   ]
  },
  {
   "cell_type": "code",
   "execution_count": 6,
   "metadata": {},
   "outputs": [],
   "source": [
    "aero_radii = radii\n",
    "n_bins = 20\n",
    "bin_array = np.logspace(np.log10(aero_radii.min()), np.log10(aero_radii.max()), n_bins)\n",
    "\n",
    "bin_counts = np.zeros(n_bins)\n",
    "for i, (bin_min, bin_max) in enumerate(zip(bin_array[:-1], bin_array[1:])):\n",
    "    bin_radii = aero_radii[(aero_radii > bin_min) & (aero_radii < bin_max)]\n",
    "    bin_counts[i] = bin_radii.shape[0] / (np.log10(bin_max)- np.log10(bin_min))   "
   ]
  },
  {
   "cell_type": "code",
   "execution_count": 7,
   "metadata": {},
   "outputs": [
    {
     "data": {
      "text/plain": [
       "<BarContainer object of 20 artists>"
      ]
     },
     "execution_count": 7,
     "metadata": {},
     "output_type": "execute_result"
    },
    {
     "data": {
      "image/png": "[encoded data removed]",
      "text/plain": [
       "<Figure size 432x288 with 1 Axes>"
      ]
     },
     "metadata": {
      "needs_background": "light"
     },
     "output_type": "display_data"
    }
   ],
   "source": [
    "plt.bar(bin_array,bin_counts, log=True)\n",
    "\n",
    "#from scipy.stats import lognorm\n",
    "#sigma=0.3\n",
    "#x = np.linspace(lognorm.ppf(0.00001, sigma), lognorm.ppf(0.9999, sigma), 100)\n",
    "#plt.plot(x, 10000*lognorm.pdf(x, sigma), 'r-', lw=5, alpha=0.6, label='lognorm pdf')\n"
   ]
  },
  {
   "cell_type": "code",
   "execution_count": 8,
   "metadata": {},
   "outputs": [],
   "source": [
    "mixing_states = []\n",
    "for i in range(10000):\n",
    "    aero = aero_state(n_particles=500, \n",
    "                    species={'species_1': {'density': 1},\n",
    "                            'species_2': {'density': 1}},\n",
    "                    particle_radius=1,\n",
    "                    verbose=False)\n",
    "    mixing_states.append(aero.mixing_state_index)\n",
    "\n",
    "\n"
   ]
  },
  {
   "cell_type": "code",
   "execution_count": 9,
   "metadata": {},
   "outputs": [
    {
     "data": {
      "text/plain": [
       "Text(0, 0.5, 'frequency')"
      ]
     },
     "execution_count": 9,
     "metadata": {},
     "output_type": "execute_result"
    },
    {
     "data": {
      "image/png": "[encoded data removed]",
      "text/plain": [
       "<Figure size 432x288 with 1 Axes>"
      ]
     },
     "metadata": {
      "needs_background": "light"
     },
     "output_type": "display_data"
    }
   ],
   "source": [
    "plt.hist(mixing_states, bins=100)\n",
    "plt.xlabel('$\\chi$')\n",
    "plt.ylabel('frequency')"
   ]
  },
  {
   "cell_type": "code",
   "execution_count": 10,
   "metadata": {},
   "outputs": [],
   "source": [
    "mixing_states = []\n",
    "for i in range(10000):\n",
    "    n_particles = 500\n",
    "    radii = np.random.lognormal(mean=0, sigma=.3, size=n_particles)\n",
    "    aero = aero_state(n_particles=n_particles, \n",
    "                    species={'species_1': {'density': 1},\n",
    "                            'species_2': {'density': 1}},\n",
    "                    particle_radius=radii,\n",
    "                    verbose=False)\n",
    "    mixing_states.append(aero.mixing_state_index)"
   ]
  },
  {
   "cell_type": "code",
   "execution_count": 11,
   "metadata": {},
   "outputs": [
    {
     "data": {
      "text/plain": [
       "Text(0, 0.5, 'frequency')"
      ]
     },
     "execution_count": 11,
     "metadata": {},
     "output_type": "execute_result"
    },
    {
     "data": {
      "image/png": "[encoded data removed]",
      "text/plain": [
       "<Figure size 432x288 with 1 Axes>"
      ]
     },
     "metadata": {
      "needs_background": "light"
     },
     "output_type": "display_data"
    }
   ],
   "source": [
    "plt.hist(mixing_states, bins=100)\n",
    "plt.xlabel('$\\chi$')\n",
    "plt.ylabel('frequency')"
   ]
  },
  {
   "cell_type": "code",
   "execution_count": 12,
   "metadata": {},
   "outputs": [],
   "source": [
    "import numpy as np\n",
    "x = np.random.rand(5)"
   ]
  },
  {
   "cell_type": "code",
   "execution_count": 13,
   "metadata": {},
   "outputs": [
    {
     "data": {
      "text/plain": [
       "array([0.46, 0.11, 0.43, 0.77, 0.48])"
      ]
     },
     "execution_count": 13,
     "metadata": {},
     "output_type": "execute_result"
    }
   ],
   "source": [
    "x.round(2)"
   ]
  },
  {
   "cell_type": "code",
   "execution_count": 14,
   "metadata": {},
   "outputs": [],
   "source": [
    "def my_round(x, prec=2, base=0.05):\n",
    "    return (base * (np.array(x) / base).round()).round(prec)"
   ]
  },
  {
   "cell_type": "code",
   "execution_count": 15,
   "metadata": {},
   "outputs": [
    {
     "data": {
      "text/plain": [
       "array([0.45, 0.1 , 0.45, 0.75, 0.5 ])"
      ]
     },
     "execution_count": 15,
     "metadata": {},
     "output_type": "execute_result"
    }
   ],
   "source": [
    "my_round(x)"
   ]
  },
  {
   "cell_type": "code",
   "execution_count": 16,
   "metadata": {},
   "outputs": [
    {
     "data": {
      "text/plain": [
       "2"
      ]
     },
     "execution_count": 16,
     "metadata": {},
     "output_type": "execute_result"
    }
   ],
   "source": [
    "len(str(0.05).split('.')[-1])"
   ]
  },
  {
   "cell_type": "code",
   "execution_count": 17,
   "metadata": {},
   "outputs": [],
   "source": [
    "mixing_states_500 = []\n",
    "Dalpha_500 = []\n",
    "Dbeta_500 = []\n",
    "Dgamma_500 = []\n",
    "Di_500 = []\n",
    "for i in range(10000):\n",
    "    n_particles = 500\n",
    "    radii = 1\n",
    "    #radii = np.random.lognormal(mean=0, sigma=.3, size=n_particles)\n",
    "    aero = aero_state(n_particles=n_particles, \n",
    "                    species={'species_1': {'density': 1},\n",
    "                            'species_2': {'density': 1}},\n",
    "                    particle_radius=radii,\n",
    "                    #round_mass_frac_base=0.05,\n",
    "                    verbose=False)\n",
    "    mixing_states_500.append(aero.mixing_state_index)\n",
    "\n",
    "    Dalpha_500.append(aero.avg_particle_species_diversity)\n",
    "    Dgamma_500.append(aero.pop_bulk_species_diversity)\n",
    "    Dbeta_500.append(aero.inter_particle_diversity)\n",
    "    Di_500.extend(aero.particle_diversity)\n"
   ]
  },
  {
   "cell_type": "code",
   "execution_count": 18,
   "metadata": {},
   "outputs": [],
   "source": [
    "mixing_states_100 = []\n",
    "Dalpha_100 = []\n",
    "Dbeta_100 = []\n",
    "Dgamma_100 = []\n",
    "Di_100 = []\n",
    "for i in range(10000):\n",
    "    n_particles = 100\n",
    "    radii = 1\n",
    "    #radii = np.random.lognormal(mean=0, sigma=.3, size=n_particles)\n",
    "    aero = aero_state(n_particles=n_particles, \n",
    "                    species={'species_1': {'density': 1},\n",
    "                            'species_2': {'density': 1}},\n",
    "                    particle_radius=radii,\n",
    "                    #round_mass_frac_base=0.05,\n",
    "                    verbose=False)\n",
    "    mixing_states_100.append(aero.mixing_state_index)\n",
    "    Dalpha_100.append(aero.avg_particle_species_diversity)\n",
    "    Dgamma_100.append(aero.pop_bulk_species_diversity)\n",
    "    Dbeta_100.append(aero.inter_particle_diversity)\n",
    "    Di_100.extend(aero.particle_diversity)"
   ]
  },
  {
   "cell_type": "code",
   "execution_count": 19,
   "metadata": {},
   "outputs": [],
   "source": [
    "mixing_states_10 = []\n",
    "Dalpha_10 = []\n",
    "Dbeta_10 = []\n",
    "Dgamma_10 = []\n",
    "Di_10 = []\n",
    "for i in range(10000):\n",
    "    n_particles = 10\n",
    "    radii = 1\n",
    "    #radii = np.random.lognormal(mean=0, sigma=.3, size=n_particles)\n",
    "    aero = aero_state(n_particles=n_particles, \n",
    "                    species={'species_1': {'density': 1},\n",
    "                            'species_2': {'density': 1}},\n",
    "                    particle_radius=radii,\n",
    "                    #round_mass_frac_base=0.05,\n",
    "                    verbose=False)\n",
    "    mixing_states_10.append(aero.mixing_state_index)\n",
    "    Dalpha_10.append(aero.avg_particle_species_diversity)\n",
    "    Dgamma_10.append(aero.pop_bulk_species_diversity)\n",
    "    Dbeta_10.append(aero.inter_particle_diversity)\n",
    "    Di_10.extend(aero.particle_diversity)"
   ]
  },
  {
   "cell_type": "code",
   "execution_count": 20,
   "metadata": {},
   "outputs": [
    {
     "data": {
      "text/plain": [
       "Text(0.5, 1.0, '$\\\\chi$ distribution (10,000 stochastic monodisperse particle populations)')"
      ]
     },
     "execution_count": 20,
     "metadata": {},
     "output_type": "execute_result"
    },
    {
     "data": {
      "image/png": "[encoded data removed]",
      "text/plain": [
       "<Figure size 576x432 with 1 Axes>"
      ]
     },
     "metadata": {
      "needs_background": "light"
     },
     "output_type": "display_data"
    }
   ],
   "source": [
    "fig, ax = plt.subplots(1, 1, figsize=(8, 6))\n",
    "ax.hist(mixing_states_10, bins=100, alpha=.5, label='10 particles')\n",
    "ax.hist(mixing_states_100, bins=100, alpha=.5, label='100 particles')\n",
    "ax.hist(mixing_states_500, bins=100, alpha=.5, label='500 particles')\n",
    "\n",
    "\n",
    "plt.xlabel('$\\chi$')\n",
    "plt.ylabel('frequency')\n",
    "\n",
    "plt.legend()\n",
    "plt.title('$\\chi$ distribution (10,000 stochastic monodisperse particle populations)')"
   ]
  },
  {
   "cell_type": "code",
   "execution_count": 21,
   "metadata": {},
   "outputs": [
    {
     "data": {
      "text/plain": [
       "<matplotlib.legend.Legend at 0x2b9f7fe94d90>"
      ]
     },
     "execution_count": 21,
     "metadata": {},
     "output_type": "execute_result"
    },
    {
     "data": {
      "image/png": "[encoded data removed]",
      "text/plain": [
       "<Figure size 936x288 with 3 Axes>"
      ]
     },
     "metadata": {
      "needs_background": "light"
     },
     "output_type": "display_data"
    }
   ],
   "source": [
    "fig, ax = plt.subplots(1, 3, figsize=(13, 4))\n",
    "plt.suptitle('Diversity metrics (Each distribution is 10,000 stochastic particle populations, 2 species)')\n",
    "\n",
    "ax[0].hist(Dalpha_10, bins=100, alpha=.5, label='10 particles')\n",
    "ax[0].hist(Dalpha_100, bins=100, alpha=.5, label='100 particles')\n",
    "ax[0].hist(Dalpha_500, bins=100, alpha=.5, label='500 particles')\n",
    "#ax[0].set_xlabel(r'$D_{\\alpha}$')\n",
    "ax[0].set_ylabel('frequency')\n",
    "ax[0].set_yscale('log')\n",
    "ax[0].set_title(r'$D_{\\alpha}$', fontsize=14)\n",
    "\n",
    "\n",
    "ax[1].hist(Dbeta_10, bins=100, alpha=.5, label='10 particles')\n",
    "ax[1].hist(Dbeta_100, bins=100, alpha=.5, label='100 particles')\n",
    "ax[1].hist(Dbeta_500, bins=100, alpha=.5, label='500 particles')\n",
    "#ax[1].set_xlabel(r'$D_{\\beta}$')\n",
    "ax[1].set_ylabel('frequency')\n",
    "ax[1].set_yscale('log')\n",
    "ax[1].set_title(r'$D_{\\beta}$', fontsize=14)\n",
    "\n",
    "ax[2].hist(Dgamma_10, bins=100, alpha=.5, label='10 particles')\n",
    "ax[2].hist(Dgamma_100, bins=100, alpha=.5, label='100 particles')\n",
    "ax[2].hist(Dgamma_500, bins=100, alpha=.5, label='500 particles')\n",
    "#ax[2].set_xlabel('$D_{\\gamma}$')\n",
    "ax[2].set_ylabel('frequency')\n",
    "ax[2].set_yscale('log')\n",
    "ax[2].set_title('$D_{\\gamma}$', fontsize=14)\n",
    "\n",
    "plt.subplots_adjust(wspace=.3)\n",
    "plt.legend()\n"
   ]
  },
  {
   "cell_type": "code",
   "execution_count": 35,
   "metadata": {},
   "outputs": [
    {
     "data": {
      "text/plain": [
       "<matplotlib.legend.Legend at 0x2b9f819eb2e0>"
      ]
     },
     "execution_count": 35,
     "metadata": {},
     "output_type": "execute_result"
    },
    {
     "data": {
      "image/png": "[encoded data removed]",
      "text/plain": [
       "<Figure size 432x288 with 1 Axes>"
      ]
     },
     "metadata": {
      "needs_background": "light"
     },
     "output_type": "display_data"
    }
   ],
   "source": [
    "fig, ax = plt.subplots(1, 1)\n",
    "\n",
    "\n",
    "\n",
    "\n",
    "ax.hist(Di_500, bins=100, alpha=.5, label='500 particles')\n",
    "ax.hist(Di_100, bins=100, alpha=.5, label='100 particles')\n",
    "ax.hist(Di_10, bins=100, alpha=.5, label='10 particles')\n",
    "\n",
    "ax.set_title('D$_i$ distribution')\n",
    "ax.set_ylabel('counts')\n",
    "ax.set_xlabel('D$_i$')\n",
    "ax.set_yscale('log')\n",
    "plt.legend()"
   ]
  },
  {
   "cell_type": "code",
   "execution_count": 37,
   "metadata": {},
   "outputs": [
    {
     "data": {
      "text/plain": [
       "<matplotlib.legend.Legend at 0x2b9f81ecac70>"
      ]
     },
     "execution_count": 37,
     "metadata": {},
     "output_type": "execute_result"
    },
    {
     "data": {
      "image/png": "[encoded data removed]",
      "text/plain": [
       "<Figure size 432x288 with 1 Axes>"
      ]
     },
     "metadata": {
      "needs_background": "light"
     },
     "output_type": "display_data"
    }
   ],
   "source": [
    "fig, ax = plt.subplots(1, 1)\n",
    "\n",
    "(counts, bins) = np.histogram(Di_500, bins=100)\n",
    "factor = 1 / counts.max()\n",
    "ax.hist(bins[:-1], bins, weights=factor*counts, label='500 particles', alpha=.2)\n",
    "\n",
    "(counts, bins) = np.histogram(Di_100, bins=100)\n",
    "factor = 1 / counts.max()\n",
    "ax.hist(bins[:-1], bins, weights=factor*counts, label='100 particles', alpha=.4)\n",
    "\n",
    "(counts, bins) = np.histogram(Di_10, bins=100)\n",
    "factor = 1 / counts.max()\n",
    "ax.hist(bins[:-1], bins, weights=factor*counts, label='10 particles', alpha=.5)\n",
    "\n",
    "ax.set_title('D$_i$ distribution - each histogram normalized by max counts')\n",
    "ax.set_ylabel('counts')\n",
    "ax.set_xlabel('D$_i$')\n",
    "ax.set_yscale('log')\n",
    "plt.legend()"
   ]
  }
 ],
 "metadata": {
  "kernelspec": {
   "display_name": "Python 3.9.12 ('base')",
   "language": "python",
   "name": "python3"
  },
  "language_info": {
   "codemirror_mode": {
    "name": "ipython",
    "version": 3
   },
   "file_extension": ".py",
   "mimetype": "text/x-python",
   "name": "python",
   "nbconvert_exporter": "python",
   "pygments_lexer": "ipython3",
   "version": "3.9.12"
  },
  "orig_nbformat": 4,
  "vscode": {
   "interpreter": {
    "hash": "061342e0b2b237822d313d90eb843b2691a434c026b842ed01c55ab7ca03c933"
   }
  }
 },
 "nbformat": 4,
 "nbformat_minor": 2
}
